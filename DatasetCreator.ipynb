{
 "cells": [
  {
   "cell_type": "code",
   "execution_count": null,
   "id": "91409520",
   "metadata": {},
   "outputs": [],
   "source": [
    "import cv2\n",
    "import os\n",
    "from time import time\n",
    "\n",
    "\n",
    "dataset_path = \"/Data/\"\n",
    "if not os.path.exists(dataset_path):\n",
    "    os.mkdir(dataset_path)"
   ]
  },
  {
   "cell_type": "code",
   "execution_count": null,
   "id": "d092cb5e",
   "metadata": {},
   "outputs": [],
   "source": [
    "cap = cv2.VideoCapture(0)\n",
    "frame_count = 0\n",
    "image_count = 0\n",
    "\n",
    "while True:\n",
    "    frame_count += 1\n",
    "    _, frame = cap.read()\n",
    "\n",
    "    if frame_count % 10 == 0:\n",
    "        image_count += 1\n",
    "        cv2.imwrite(f\"{dataset_path + str(time())}.jpg\", frame)\n",
    "\n",
    "    image = cv2.putText(\n",
    "        frame,\n",
    "        str(image_count),\n",
    "        (50, 50),\n",
    "        cv2.FONT_HERSHEY_SIMPLEX,\n",
    "        1,\n",
    "        (255, 255, 0),\n",
    "        2,\n",
    "        cv2.LINE_AA\n",
    "    )\n",
    "\n",
    "    cv2.imshow(\"Frames\", frame)\n",
    "    key_press = cv2.waitKey(1)\n",
    "    if key_press == ord('q'):\n",
    "        print(\"Breaking...\")\n",
    "        break\n",
    "cap.release()\n",
    "cv2.destroyAllWindows()\n"
   ]
  }
 ],
 "metadata": {
  "kernelspec": {
   "display_name": "Python 3 (ipykernel)",
   "language": "python",
   "name": "python3"
  },
  "language_info": {
   "codemirror_mode": {
    "name": "ipython",
    "version": 3
   },
   "file_extension": ".py",
   "mimetype": "text/x-python",
   "name": "python",
   "nbconvert_exporter": "python",
   "pygments_lexer": "ipython3",
   "version": "3.10.4"
  }
 },
 "nbformat": 4,
 "nbformat_minor": 5
}
